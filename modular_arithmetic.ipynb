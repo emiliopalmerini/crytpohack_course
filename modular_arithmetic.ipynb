{
 "cells": [
  {
   "cell_type": "markdown",
   "metadata": {},
   "source": [
    "## 2. Extended Euclidean Algorithm\n",
    "\n",
    "If the gcd(a, b) = r then there exist integers p and s so that:\n",
    "p(a) + s(b) = r\n"
   ]
  },
  {
   "cell_type": "markdown",
   "metadata": {},
   "source": [
    "### How to format the solution"
   ]
  },
  {
   "cell_type": "code",
   "execution_count": null,
   "metadata": {},
   "outputs": [],
   "source": [
    "def format_solution(flag):\n",
    "    return print(flag)"
   ]
  },
  {
   "cell_type": "markdown",
   "metadata": {},
   "source": [
    "### Normal Euclidean Algorithm\n",
    "recap session 1"
   ]
  },
  {
   "cell_type": "code",
   "execution_count": null,
   "metadata": {},
   "outputs": [],
   "source": [
    "def euclidean_algorithm(a, b):\n",
    "    while b != 0:\n",
    "        a, b = b, a % b\n",
    "    return a"
   ]
  },
  {
   "cell_type": "markdown",
   "metadata": {},
   "source": [
    "#### Example 1:"
   ]
  },
  {
   "cell_type": "code",
   "execution_count": null,
   "metadata": {},
   "outputs": [],
   "source": [
    "euclidean_algorithm(12, 18)"
   ]
  },
  {
   "cell_type": "markdown",
   "metadata": {},
   "source": [
    "### Extended Euclidean Algorithm"
   ]
  },
  {
   "cell_type": "code",
   "execution_count": null,
   "metadata": {},
   "outputs": [],
   "source": [
    "def extended_euclidean_algorithm(a, b):\n",
    "    old_r, r = a, b\n",
    "    old_s, s = 1, 0\n",
    "    old_t, t = 0, 1\n",
    "\n",
    "    while r != 0:\n",
    "        quotient = old_r // r\n",
    "        old_r, r = r, old_r - quotient * r\n",
    "        old_s, s = s, old_s - quotient * s\n",
    "        old_t, t = t, old_t - quotient * t\n",
    "\n",
    "    return old_r, old_s, old_t"
   ]
  },
  {
   "cell_type": "markdown",
   "metadata": {},
   "source": [
    "### Improved code"
   ]
  },
  {
   "cell_type": "code",
   "execution_count": null,
   "metadata": {},
   "outputs": [],
   "source": [
    "def extended_euclidean_algorithm_improved(a, b):\n",
    "    if a == 0:\n",
    "        return (b, 0, 1)\n",
    "    else:\n",
    "        gcd, x, y = extended_euclidean_algorithm(b % a, a)\n",
    "        return (gcd, y - (b // a) * x, x)"
   ]
  },
  {
   "cell_type": "markdown",
   "metadata": {},
   "source": [
    "### Solution:"
   ]
  },
  {
   "cell_type": "code",
   "execution_count": null,
   "metadata": {},
   "outputs": [],
   "source": [
    "(gcd, u, v) = extended_euclidean_algorithm_improved(26513, 32321)\n",
    "if u > v:\n",
    "    format_solution(v)\n",
    "else:\n",
    "    format_solution(u)"
   ]
  },
  {
   "cell_type": "markdown",
   "metadata": {
    "notebookRunGroups": {
     "groupValue": ""
    }
   },
   "source": [
    "## Modular Arithmetic 1 - Theory of congruence\n",
    "https://cryptohack.org/courses/modular/ma0/\n",
    "\n",
    "We say that two integers are congruent modulo m if a ≡ b mod m.\n",
    "\n",
    "Another way of saying this, is that when we divide the integer a by m, the remainder is b. This tells you that if m divides a (this can be written as m | a) then a ≡ 0 mod m."
   ]
  },
  {
   "cell_type": "markdown",
   "metadata": {},
   "source": [
    "### Solution"
   ]
  },
  {
   "cell_type": "code",
   "execution_count": null,
   "metadata": {},
   "outputs": [],
   "source": [
    "def solution(x, y):\n",
    "    return min(x, y)\n",
    "\n",
    "\n",
    "# 11 ≡ x mod 6\n",
    "# 8146798528947 ≡ y mod 17\n",
    "\n",
    "x = 11 % 6\n",
    "y = 8146798528947 % 17\n",
    "\n",
    "solution(x, y)"
   ]
  },
  {
   "cell_type": "markdown",
   "metadata": {},
   "source": [
    "## Modular Arithmetic 2 - Fermat's little theorem\n",
    "The algebraic structure that emerges from using integers modulo a certain number depends on whether this number is prime or not. If it is prime, we get a field (which has more properties), if it is not, we get a ring (with fewer properties). \n",
    "\n",
    "1. Integers modulo p: When we talk about \"integers modulo p\", we refer to the set of all integers considered within a certain number, called the modulus. In this case, the modulus is a prime number \"p\". For example, if \"p\" is 5, the integers modulo 5 would be {0, 1, 2, 3, 4}.\n",
    "\n",
    "2. A field, denoted Fp: A field is an algebraic structure with operations of addition, subtraction, multiplication, and division (except division by zero) that satisfy certain properties. When \"p\" is a prime number, the integers modulo \"p\" form a field. This means that we can add, subtract, multiply, and divide these numbers in a way that respects the standard properties of these operations. The field formed by the integers modulo a prime number \"p\" is denoted as Fp. `A finite field Fp is the set of integers {0,1,...,p-1}, and under both addition and multiplication there is an inverse element b for every element a in the set, such that a + b = 0 and a * b = 1`\n",
    "\n",
    "3. A ring if the modulus is not prime: A ring is another algebraic structure, similar to a field but with fewer requirements. If the modulus \"n\" is not a prime number, then the integers modulo \"n\" form a ring, not a field. This means that while addition and multiplication are still well-defined and have familiar properties, division might not always be possible.\n",
    "\n",
    "### Esempi\n",
    "\n",
    "![Multiplication in mod 5](image.png)\n",
    "5 is a prime number. The table illustrates that for every non-zero element, there is a pair of numbers that multiply to 1 modulo 5, indicating the existence of multiplicative inverses.\n",
    "\n",
    "![Multiplication in mod 6](image-1.png)\n",
    "6 is not a prime number. In this table, you can see that certain elements, like 2 and 3, do not have any number they can multiply with to yield 1 modulo 6. This lack of an inverse for some elements means this system does not form a field. \n",
    "\n"
   ]
  },
  {
   "cell_type": "markdown",
   "metadata": {},
   "source": [
    "### Exercise\n",
    "Calculate `3ˆ1 mod 17`. Now do the same but with `5ˆ17 mod 17`.\n",
    "p = 17\n",
    "a = 3"
   ]
  },
  {
   "cell_type": "markdown",
   "metadata": {},
   "source": [
    "To calculate `3^17 mod 17`, we can use Fermat's Little Theorem, which states that if `p` is a prime number and `a` is an integer not divisible by `p`, then `a^(p-1) ≡ 1 (mod p)`.\n",
    "\n",
    "In this case, we're calculating `3^17 mod 17`. Here, `p = 17` and `a = 3`. Note that `3` is not divisible by `17`, so we can apply the theorem. According to Fermat's Little Theorem, we would have:\n",
    "\n",
    "`3^16 ≡ 1 (mod 17)`\n",
    "\n",
    "Now, to get `3^17`, we multiply both sides of the equation by `3`:\n",
    "\n",
    "`3 * 3^16 ≡ 3 * 1 (mod 17)`\n",
    "`3^17 ≡ 3 (mod 17)`\n",
    "\n",
    "Therefore, `3^17 mod 17` is equal to 3.\n",
    "`5ˆ17` is equivalent to 5"
   ]
  },
  {
   "cell_type": "markdown",
   "metadata": {},
   "source": [
    "What would you expect to get for `7ˆ16 mod 17`? Try calculating that."
   ]
  },
  {
   "cell_type": "code",
   "execution_count": null,
   "metadata": {},
   "outputs": [],
   "source": [
    "# 17 is prime. 7 is not divisible by 17.\n",
    "# 7ˆ16 ≡ 1 (mod 17)\n",
    "\n",
    "a = 5\n",
    "p = 17\n",
    "exponent = 16\n",
    "result = 1\n",
    "\n",
    "for _ in range(exponent):\n",
    "    result = (result * a) % p\n",
    "\n",
    "result"
   ]
  }
 ],
 "metadata": {
  "kernelspec": {
   "display_name": ".venv",
   "language": "python",
   "name": "python3"
  },
  "language_info": {
   "codemirror_mode": {
    "name": "ipython",
    "version": 3
   },
   "file_extension": ".py",
   "mimetype": "text/x-python",
   "name": "python",
   "nbconvert_exporter": "python",
   "pygments_lexer": "ipython3",
   "version": "3.11.4"
  }
 },
 "nbformat": 4,
 "nbformat_minor": 2
}
